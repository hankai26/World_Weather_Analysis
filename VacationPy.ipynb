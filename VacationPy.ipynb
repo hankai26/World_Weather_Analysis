{
 "cells": [
  {
   "cell_type": "code",
   "execution_count": 1,
   "id": "326ac8d4",
   "metadata": {},
   "outputs": [],
   "source": [
    "# Import the dependencies.\n",
    "import pandas as pd\n",
    "import gmaps\n",
    "import requests\n",
    "\n",
    "# Import the API key.\n",
    "from config import g_API_KEY\n",
    "#import os\n",
    "#from dotenv import load_dotenv\n",
    "#load_dotenv()\n",
    "#Google_API_KEY = os.getenv(\"g_API_KEY\")"
   ]
  },
  {
   "cell_type": "code",
   "execution_count": null,
   "id": "5cf6034a",
   "metadata": {},
   "outputs": [],
   "source": []
  },
  {
   "cell_type": "code",
   "execution_count": 2,
   "id": "d77f642d",
   "metadata": {},
   "outputs": [
    {
     "data": {
      "text/html": [
       "<div>\n",
       "<style scoped>\n",
       "    .dataframe tbody tr th:only-of-type {\n",
       "        vertical-align: middle;\n",
       "    }\n",
       "\n",
       "    .dataframe tbody tr th {\n",
       "        vertical-align: top;\n",
       "    }\n",
       "\n",
       "    .dataframe thead th {\n",
       "        text-align: right;\n",
       "    }\n",
       "</style>\n",
       "<table border=\"1\" class=\"dataframe\">\n",
       "  <thead>\n",
       "    <tr style=\"text-align: right;\">\n",
       "      <th></th>\n",
       "      <th>City_ID</th>\n",
       "      <th>City</th>\n",
       "      <th>Country</th>\n",
       "      <th>Date</th>\n",
       "      <th>Lat</th>\n",
       "      <th>Lng</th>\n",
       "      <th>Max Temp</th>\n",
       "      <th>Humidity</th>\n",
       "      <th>Cloudiness</th>\n",
       "      <th>Wind Speed</th>\n",
       "    </tr>\n",
       "  </thead>\n",
       "  <tbody>\n",
       "    <tr>\n",
       "      <th>0</th>\n",
       "      <td>0</td>\n",
       "      <td>Avarua</td>\n",
       "      <td>CK</td>\n",
       "      <td>2022-03-09 09:00:50</td>\n",
       "      <td>-21.2078</td>\n",
       "      <td>-159.7750</td>\n",
       "      <td>27.03</td>\n",
       "      <td>83</td>\n",
       "      <td>20</td>\n",
       "      <td>4.12</td>\n",
       "    </tr>\n",
       "    <tr>\n",
       "      <th>1</th>\n",
       "      <td>1</td>\n",
       "      <td>Cherskiy</td>\n",
       "      <td>RU</td>\n",
       "      <td>2022-03-09 09:00:50</td>\n",
       "      <td>68.7500</td>\n",
       "      <td>161.3000</td>\n",
       "      <td>-14.55</td>\n",
       "      <td>82</td>\n",
       "      <td>99</td>\n",
       "      <td>2.46</td>\n",
       "    </tr>\n",
       "    <tr>\n",
       "      <th>2</th>\n",
       "      <td>2</td>\n",
       "      <td>Cape Town</td>\n",
       "      <td>ZA</td>\n",
       "      <td>2022-03-09 09:00:51</td>\n",
       "      <td>-33.9258</td>\n",
       "      <td>18.4232</td>\n",
       "      <td>30.06</td>\n",
       "      <td>47</td>\n",
       "      <td>0</td>\n",
       "      <td>3.60</td>\n",
       "    </tr>\n",
       "    <tr>\n",
       "      <th>3</th>\n",
       "      <td>3</td>\n",
       "      <td>Torbay</td>\n",
       "      <td>CA</td>\n",
       "      <td>2022-03-09 09:00:51</td>\n",
       "      <td>47.6666</td>\n",
       "      <td>-52.7314</td>\n",
       "      <td>-1.35</td>\n",
       "      <td>73</td>\n",
       "      <td>94</td>\n",
       "      <td>14.31</td>\n",
       "    </tr>\n",
       "    <tr>\n",
       "      <th>4</th>\n",
       "      <td>4</td>\n",
       "      <td>Caravelas</td>\n",
       "      <td>BR</td>\n",
       "      <td>2022-03-09 09:00:52</td>\n",
       "      <td>-17.7125</td>\n",
       "      <td>-39.2481</td>\n",
       "      <td>22.17</td>\n",
       "      <td>94</td>\n",
       "      <td>93</td>\n",
       "      <td>1.71</td>\n",
       "    </tr>\n",
       "  </tbody>\n",
       "</table>\n",
       "</div>"
      ],
      "text/plain": [
       "   City_ID       City Country                 Date      Lat       Lng  \\\n",
       "0        0     Avarua      CK  2022-03-09 09:00:50 -21.2078 -159.7750   \n",
       "1        1   Cherskiy      RU  2022-03-09 09:00:50  68.7500  161.3000   \n",
       "2        2  Cape Town      ZA  2022-03-09 09:00:51 -33.9258   18.4232   \n",
       "3        3     Torbay      CA  2022-03-09 09:00:51  47.6666  -52.7314   \n",
       "4        4  Caravelas      BR  2022-03-09 09:00:52 -17.7125  -39.2481   \n",
       "\n",
       "   Max Temp  Humidity  Cloudiness  Wind Speed  \n",
       "0     27.03        83          20        4.12  \n",
       "1    -14.55        82          99        2.46  \n",
       "2     30.06        47           0        3.60  \n",
       "3     -1.35        73          94       14.31  \n",
       "4     22.17        94          93        1.71  "
      ]
     },
     "execution_count": 2,
     "metadata": {},
     "output_type": "execute_result"
    }
   ],
   "source": [
    "city_data_df= pd.read_csv(\"weather_data/cities.csv\")\n",
    "city_data_df.head()"
   ]
  },
  {
   "cell_type": "code",
   "execution_count": 3,
   "id": "8091de9a",
   "metadata": {},
   "outputs": [
    {
     "data": {
      "text/plain": [
       "City_ID         int64\n",
       "City           object\n",
       "Country        object\n",
       "Date           object\n",
       "Lat           float64\n",
       "Lng           float64\n",
       "Max Temp      float64\n",
       "Humidity        int64\n",
       "Cloudiness      int64\n",
       "Wind Speed    float64\n",
       "dtype: object"
      ]
     },
     "execution_count": 3,
     "metadata": {},
     "output_type": "execute_result"
    }
   ],
   "source": [
    "city_data_df.dtypes\n"
   ]
  },
  {
   "cell_type": "code",
   "execution_count": 4,
   "id": "661d272a",
   "metadata": {},
   "outputs": [
    {
     "data": {
      "text/html": [
       "<div>\n",
       "<style scoped>\n",
       "    .dataframe tbody tr th:only-of-type {\n",
       "        vertical-align: middle;\n",
       "    }\n",
       "\n",
       "    .dataframe tbody tr th {\n",
       "        vertical-align: top;\n",
       "    }\n",
       "\n",
       "    .dataframe thead th {\n",
       "        text-align: right;\n",
       "    }\n",
       "</style>\n",
       "<table border=\"1\" class=\"dataframe\">\n",
       "  <thead>\n",
       "    <tr style=\"text-align: right;\">\n",
       "      <th></th>\n",
       "      <th>Lat</th>\n",
       "      <th>Lng</th>\n",
       "    </tr>\n",
       "  </thead>\n",
       "  <tbody>\n",
       "    <tr>\n",
       "      <th>0</th>\n",
       "      <td>-21.2078</td>\n",
       "      <td>-159.7750</td>\n",
       "    </tr>\n",
       "    <tr>\n",
       "      <th>1</th>\n",
       "      <td>68.7500</td>\n",
       "      <td>161.3000</td>\n",
       "    </tr>\n",
       "    <tr>\n",
       "      <th>2</th>\n",
       "      <td>-33.9258</td>\n",
       "      <td>18.4232</td>\n",
       "    </tr>\n",
       "    <tr>\n",
       "      <th>3</th>\n",
       "      <td>47.6666</td>\n",
       "      <td>-52.7314</td>\n",
       "    </tr>\n",
       "    <tr>\n",
       "      <th>4</th>\n",
       "      <td>-17.7125</td>\n",
       "      <td>-39.2481</td>\n",
       "    </tr>\n",
       "    <tr>\n",
       "      <th>...</th>\n",
       "      <td>...</td>\n",
       "      <td>...</td>\n",
       "    </tr>\n",
       "    <tr>\n",
       "      <th>579</th>\n",
       "      <td>31.4044</td>\n",
       "      <td>30.4164</td>\n",
       "    </tr>\n",
       "    <tr>\n",
       "      <th>580</th>\n",
       "      <td>-9.6567</td>\n",
       "      <td>120.2641</td>\n",
       "    </tr>\n",
       "    <tr>\n",
       "      <th>581</th>\n",
       "      <td>11.9214</td>\n",
       "      <td>109.1591</td>\n",
       "    </tr>\n",
       "    <tr>\n",
       "      <th>582</th>\n",
       "      <td>41.1231</td>\n",
       "      <td>80.2644</td>\n",
       "    </tr>\n",
       "    <tr>\n",
       "      <th>583</th>\n",
       "      <td>4.2500</td>\n",
       "      <td>-54.3833</td>\n",
       "    </tr>\n",
       "  </tbody>\n",
       "</table>\n",
       "<p>584 rows × 2 columns</p>\n",
       "</div>"
      ],
      "text/plain": [
       "         Lat       Lng\n",
       "0   -21.2078 -159.7750\n",
       "1    68.7500  161.3000\n",
       "2   -33.9258   18.4232\n",
       "3    47.6666  -52.7314\n",
       "4   -17.7125  -39.2481\n",
       "..       ...       ...\n",
       "579  31.4044   30.4164\n",
       "580  -9.6567  120.2641\n",
       "581  11.9214  109.1591\n",
       "582  41.1231   80.2644\n",
       "583   4.2500  -54.3833\n",
       "\n",
       "[584 rows x 2 columns]"
      ]
     },
     "execution_count": 4,
     "metadata": {},
     "output_type": "execute_result"
    }
   ],
   "source": [
    "# Configure gmaps to use your Google API key.\n",
    "gmaps.configure(api_key=g_API_KEY)\n",
    "fig = gmaps.figure()\n",
    "fig\n",
    "city_data_df[[\"Lat\", \"Lng\"]]"
   ]
  },
  {
   "cell_type": "markdown",
   "id": "b6ca9ebc",
   "metadata": {},
   "source": [
    "# Heatmap of temperature"
   ]
  },
  {
   "cell_type": "code",
   "execution_count": 5,
   "id": "0346a4e1",
   "metadata": {},
   "outputs": [
    {
     "data": {
      "text/html": [
       "<div>\n",
       "<style scoped>\n",
       "    .dataframe tbody tr th:only-of-type {\n",
       "        vertical-align: middle;\n",
       "    }\n",
       "\n",
       "    .dataframe tbody tr th {\n",
       "        vertical-align: top;\n",
       "    }\n",
       "\n",
       "    .dataframe thead th {\n",
       "        text-align: right;\n",
       "    }\n",
       "</style>\n",
       "<table border=\"1\" class=\"dataframe\">\n",
       "  <thead>\n",
       "    <tr style=\"text-align: right;\">\n",
       "      <th></th>\n",
       "      <th>Lat</th>\n",
       "      <th>Lng</th>\n",
       "    </tr>\n",
       "  </thead>\n",
       "  <tbody>\n",
       "    <tr>\n",
       "      <th>0</th>\n",
       "      <td>-21.2078</td>\n",
       "      <td>-159.7750</td>\n",
       "    </tr>\n",
       "    <tr>\n",
       "      <th>1</th>\n",
       "      <td>68.7500</td>\n",
       "      <td>161.3000</td>\n",
       "    </tr>\n",
       "    <tr>\n",
       "      <th>2</th>\n",
       "      <td>-33.9258</td>\n",
       "      <td>18.4232</td>\n",
       "    </tr>\n",
       "    <tr>\n",
       "      <th>3</th>\n",
       "      <td>47.6666</td>\n",
       "      <td>-52.7314</td>\n",
       "    </tr>\n",
       "    <tr>\n",
       "      <th>4</th>\n",
       "      <td>-17.7125</td>\n",
       "      <td>-39.2481</td>\n",
       "    </tr>\n",
       "    <tr>\n",
       "      <th>...</th>\n",
       "      <td>...</td>\n",
       "      <td>...</td>\n",
       "    </tr>\n",
       "    <tr>\n",
       "      <th>579</th>\n",
       "      <td>31.4044</td>\n",
       "      <td>30.4164</td>\n",
       "    </tr>\n",
       "    <tr>\n",
       "      <th>580</th>\n",
       "      <td>-9.6567</td>\n",
       "      <td>120.2641</td>\n",
       "    </tr>\n",
       "    <tr>\n",
       "      <th>581</th>\n",
       "      <td>11.9214</td>\n",
       "      <td>109.1591</td>\n",
       "    </tr>\n",
       "    <tr>\n",
       "      <th>582</th>\n",
       "      <td>41.1231</td>\n",
       "      <td>80.2644</td>\n",
       "    </tr>\n",
       "    <tr>\n",
       "      <th>583</th>\n",
       "      <td>4.2500</td>\n",
       "      <td>-54.3833</td>\n",
       "    </tr>\n",
       "  </tbody>\n",
       "</table>\n",
       "<p>584 rows × 2 columns</p>\n",
       "</div>"
      ],
      "text/plain": [
       "         Lat       Lng\n",
       "0   -21.2078 -159.7750\n",
       "1    68.7500  161.3000\n",
       "2   -33.9258   18.4232\n",
       "3    47.6666  -52.7314\n",
       "4   -17.7125  -39.2481\n",
       "..       ...       ...\n",
       "579  31.4044   30.4164\n",
       "580  -9.6567  120.2641\n",
       "581  11.9214  109.1591\n",
       "582  41.1231   80.2644\n",
       "583   4.2500  -54.3833\n",
       "\n",
       "[584 rows x 2 columns]"
      ]
     },
     "execution_count": 5,
     "metadata": {},
     "output_type": "execute_result"
    }
   ],
   "source": [
    "city_data_df[[\"Lat\", \"Lng\"]]"
   ]
  },
  {
   "cell_type": "code",
   "execution_count": 6,
   "id": "63d9bdd1",
   "metadata": {},
   "outputs": [
    {
     "data": {
      "application/vnd.jupyter.widget-view+json": {
       "model_id": "0ae8a7d8851349c4bf13df96d0b8dda6",
       "version_major": 2,
       "version_minor": 0
      },
      "text/plain": [
       "Figure(layout=FigureLayout(height='420px'))"
      ]
     },
     "metadata": {},
     "output_type": "display_data"
    }
   ],
   "source": [
    "# Get the latitude and longitude.\n",
    "locations = city_data_df[[\"Lat\", \"Lng\"]]\n",
    "# Get the maximum temperature.\n",
    "max_temp = city_data_df[\"Max Temp\"]\n",
    "temps= []\n",
    "for temp in max_temp:\n",
    "    temps.append(max(temp,0))\n",
    "# [max(temp,0) for temp in max_temp]\n",
    "#print(temps)\n",
    "\n",
    "# Assign the figure variable.\n",
    "fig = gmaps.figure()\n",
    "# Assign the heatmap variable.\n",
    "heat_layer = gmaps.heatmap_layer(locations, weights=temps)\n",
    "# Add the heatmap layer.\n",
    "fig.add_layer(heat_layer)\n",
    "# Call the figure to plot the data.\n",
    "fig\n"
   ]
  },
  {
   "cell_type": "markdown",
   "id": "5dce85e9",
   "metadata": {},
   "source": [
    "# Adjust Heatmap Zoom, Intensity, and Point Radius"
   ]
  },
  {
   "cell_type": "code",
   "execution_count": 7,
   "id": "4665691f",
   "metadata": {},
   "outputs": [],
   "source": [
    "fig = gmaps.figure(center=(30.0, 31.0), zoom_level=1.5)"
   ]
  },
  {
   "cell_type": "code",
   "execution_count": 8,
   "id": "212e656d",
   "metadata": {},
   "outputs": [],
   "source": [
    "heat_layer = gmaps.heatmap_layer(locations, \n",
    "            weights=[max(temp, 0) for temp in max_temp], \n",
    "            dissipating=False, max_intensity=300, point_radius=4)"
   ]
  },
  {
   "cell_type": "markdown",
   "id": "0bcfc637",
   "metadata": {},
   "source": [
    "# Create a Percent Humidity Heatmap"
   ]
  },
  {
   "cell_type": "code",
   "execution_count": 9,
   "id": "0d99ac53",
   "metadata": {},
   "outputs": [
    {
     "data": {
      "application/vnd.jupyter.widget-view+json": {
       "model_id": "cd0fa3d2ec1f43d2a61cbcdbfc585fe0",
       "version_major": 2,
       "version_minor": 0
      },
      "text/plain": [
       "Figure(layout=FigureLayout(height='420px'))"
      ]
     },
     "metadata": {},
     "output_type": "display_data"
    }
   ],
   "source": [
    "# Heatmap of percent humidity\n",
    "locations = city_data_df[[\"Lat\", \"Lng\"]]\n",
    "humidity = city_data_df[\"Humidity\"]\n",
    "fig = gmaps.figure(center=(30.0, 31.0), zoom_level=1.5)\n",
    "heat_layer = gmaps.heatmap_layer(locations, weights=humidity, dissipating=False, max_intensity=300, point_radius=4)\n",
    "\n",
    "fig.add_layer(heat_layer)\n",
    "# Call the figure to plot the data.\n",
    "fig"
   ]
  },
  {
   "cell_type": "markdown",
   "id": "c5985596",
   "metadata": {},
   "source": [
    "# Create a Percent Cloudiness Heatmap"
   ]
  },
  {
   "cell_type": "code",
   "execution_count": 10,
   "id": "9dcea633",
   "metadata": {},
   "outputs": [
    {
     "data": {
      "application/vnd.jupyter.widget-view+json": {
       "model_id": "64772e843b1341dfa8eb62f78849bb78",
       "version_major": 2,
       "version_minor": 0
      },
      "text/plain": [
       "Figure(layout=FigureLayout(height='420px'))"
      ]
     },
     "metadata": {},
     "output_type": "display_data"
    }
   ],
   "source": [
    "locations = city_data_df[[\"Lat\", \"Lng\"]]\n",
    "clouds = city_data_df[\"Cloudiness\"]\n",
    "fig = gmaps.figure(center=(30.0, 31.0), zoom_level=1.5)\n",
    "heat_layer = gmaps.heatmap_layer(locations, weights=clouds, dissipating=False, max_intensity=300, point_radius=4)\n",
    "\n",
    "fig.add_layer(heat_layer)\n",
    "fig"
   ]
  },
  {
   "cell_type": "markdown",
   "id": "cebb26af",
   "metadata": {},
   "source": [
    "# wind heatmap"
   ]
  },
  {
   "cell_type": "code",
   "execution_count": 28,
   "id": "efaa6a99",
   "metadata": {},
   "outputs": [
    {
     "data": {
      "application/vnd.jupyter.widget-view+json": {
       "model_id": "774e44cc023a4698a589de965dd5b86f",
       "version_major": 2,
       "version_minor": 0
      },
      "text/plain": [
       "Figure(layout=FigureLayout(height='420px'))"
      ]
     },
     "metadata": {},
     "output_type": "display_data"
    }
   ],
   "source": [
    "locations = city_data_df[[\"Lat\", \"Lng\"]]\n",
    "wind = city_data_df[\"Wind Speed\"]\n",
    "fig = gmaps.figure(center=(30.0, 31.0), zoom_level=1.5)\n",
    "heat_layer = gmaps.heatmap_layer(locations, weights=wind, dissipating=False, max_intensity=300, point_radius=4)\n",
    "\n",
    "fig.add_layer(heat_layer)\n",
    "fig\n"
   ]
  },
  {
   "cell_type": "code",
   "execution_count": 12,
   "id": "2a569359",
   "metadata": {},
   "outputs": [],
   "source": [
    "# input()"
   ]
  },
  {
   "cell_type": "code",
   "execution_count": 29,
   "id": "7648e130",
   "metadata": {},
   "outputs": [
    {
     "name": "stdout",
     "output_type": "stream",
     "text": [
      "What is the minimum temperature you would like for your trip? 30\n",
      "What is the maximum temperature you would like for your trip? 45\n"
     ]
    }
   ],
   "source": [
    "# Ask the customer to add a minimum and maximum temperature value.\n",
    "a = float(input(\"What is the minimum temperature you would like for your trip? \"))\n",
    "b = float(input(\"What is the maximum temperature you would like for your trip? \"))\n"
   ]
  },
  {
   "cell_type": "code",
   "execution_count": 30,
   "id": "be47e4e2",
   "metadata": {},
   "outputs": [
    {
     "name": "stdout",
     "output_type": "stream",
     "text": [
      "30.0 45.0\n"
     ]
    }
   ],
   "source": [
    "#print(max_temp, min_temp)\n",
    "#city_data_df.head()\n",
    "print(a, b)"
   ]
  },
  {
   "cell_type": "code",
   "execution_count": null,
   "id": "193d691a",
   "metadata": {},
   "outputs": [],
   "source": [
    "perf_cities_df = city_data_df.loc[(city_data_df['Max Temp']<= max_temp)\n",
    "                                  & (city_data_df['Max Temp']>=min_temp)]\n",
    "perf_cities_df.head()"
   ]
  },
  {
   "cell_type": "code",
   "execution_count": null,
   "id": "a61dcf44",
   "metadata": {},
   "outputs": [],
   "source": [
    "perf_cities_df.count()\n"
   ]
  },
  {
   "cell_type": "markdown",
   "id": "fc4c5640",
   "metadata": {},
   "source": [
    "# Get Travel Destinations - Hotel"
   ]
  },
  {
   "cell_type": "code",
   "execution_count": 32,
   "id": "646208d4",
   "metadata": {},
   "outputs": [
    {
     "data": {
      "text/html": [
       "<div>\n",
       "<style scoped>\n",
       "    .dataframe tbody tr th:only-of-type {\n",
       "        vertical-align: middle;\n",
       "    }\n",
       "\n",
       "    .dataframe tbody tr th {\n",
       "        vertical-align: top;\n",
       "    }\n",
       "\n",
       "    .dataframe thead th {\n",
       "        text-align: right;\n",
       "    }\n",
       "</style>\n",
       "<table border=\"1\" class=\"dataframe\">\n",
       "  <thead>\n",
       "    <tr style=\"text-align: right;\">\n",
       "      <th></th>\n",
       "      <th>City</th>\n",
       "      <th>Country</th>\n",
       "      <th>Max Temp</th>\n",
       "      <th>Lat</th>\n",
       "      <th>Lng</th>\n",
       "      <th>Hotel Name</th>\n",
       "    </tr>\n",
       "  </thead>\n",
       "  <tbody>\n",
       "    <tr>\n",
       "      <th>0</th>\n",
       "      <td>Avarua</td>\n",
       "      <td>CK</td>\n",
       "      <td>27.03</td>\n",
       "      <td>-21.2078</td>\n",
       "      <td>-159.7750</td>\n",
       "      <td></td>\n",
       "    </tr>\n",
       "    <tr>\n",
       "      <th>4</th>\n",
       "      <td>Caravelas</td>\n",
       "      <td>BR</td>\n",
       "      <td>22.17</td>\n",
       "      <td>-17.7125</td>\n",
       "      <td>-39.2481</td>\n",
       "      <td></td>\n",
       "    </tr>\n",
       "    <tr>\n",
       "      <th>5</th>\n",
       "      <td>Rikitea</td>\n",
       "      <td>PF</td>\n",
       "      <td>25.93</td>\n",
       "      <td>-23.1203</td>\n",
       "      <td>-134.9692</td>\n",
       "      <td></td>\n",
       "    </tr>\n",
       "    <tr>\n",
       "      <th>7</th>\n",
       "      <td>Vaini</td>\n",
       "      <td>TO</td>\n",
       "      <td>26.04</td>\n",
       "      <td>-21.2000</td>\n",
       "      <td>-175.2000</td>\n",
       "      <td></td>\n",
       "    </tr>\n",
       "    <tr>\n",
       "      <th>9</th>\n",
       "      <td>Khorixas</td>\n",
       "      <td>NaN</td>\n",
       "      <td>29.28</td>\n",
       "      <td>-20.3667</td>\n",
       "      <td>14.9667</td>\n",
       "      <td></td>\n",
       "    </tr>\n",
       "    <tr>\n",
       "      <th>13</th>\n",
       "      <td>Dhidhdhoo</td>\n",
       "      <td>MV</td>\n",
       "      <td>28.05</td>\n",
       "      <td>6.8833</td>\n",
       "      <td>73.1000</td>\n",
       "      <td></td>\n",
       "    </tr>\n",
       "    <tr>\n",
       "      <th>15</th>\n",
       "      <td>Panaba</td>\n",
       "      <td>MX</td>\n",
       "      <td>21.93</td>\n",
       "      <td>21.2833</td>\n",
       "      <td>-88.2667</td>\n",
       "      <td></td>\n",
       "    </tr>\n",
       "    <tr>\n",
       "      <th>18</th>\n",
       "      <td>Jambi</td>\n",
       "      <td>ID</td>\n",
       "      <td>29.38</td>\n",
       "      <td>-1.6000</td>\n",
       "      <td>103.6167</td>\n",
       "      <td></td>\n",
       "    </tr>\n",
       "    <tr>\n",
       "      <th>19</th>\n",
       "      <td>Rundu</td>\n",
       "      <td>NaN</td>\n",
       "      <td>26.47</td>\n",
       "      <td>-17.9333</td>\n",
       "      <td>19.7667</td>\n",
       "      <td></td>\n",
       "    </tr>\n",
       "    <tr>\n",
       "      <th>20</th>\n",
       "      <td>Riyadh</td>\n",
       "      <td>SA</td>\n",
       "      <td>26.08</td>\n",
       "      <td>24.6877</td>\n",
       "      <td>46.7219</td>\n",
       "      <td></td>\n",
       "    </tr>\n",
       "  </tbody>\n",
       "</table>\n",
       "</div>"
      ],
      "text/plain": [
       "         City Country  Max Temp      Lat       Lng Hotel Name\n",
       "0      Avarua      CK     27.03 -21.2078 -159.7750           \n",
       "4   Caravelas      BR     22.17 -17.7125  -39.2481           \n",
       "5     Rikitea      PF     25.93 -23.1203 -134.9692           \n",
       "7       Vaini      TO     26.04 -21.2000 -175.2000           \n",
       "9    Khorixas     NaN     29.28 -20.3667   14.9667           \n",
       "13  Dhidhdhoo      MV     28.05   6.8833   73.1000           \n",
       "15     Panaba      MX     21.93  21.2833  -88.2667           \n",
       "18      Jambi      ID     29.38  -1.6000  103.6167           \n",
       "19      Rundu     NaN     26.47 -17.9333   19.7667           \n",
       "20     Riyadh      SA     26.08  24.6877   46.7219           "
      ]
     },
     "execution_count": 32,
     "metadata": {},
     "output_type": "execute_result"
    }
   ],
   "source": [
    "# Create DataFrame called hotel_df to store hotel names along with city, country, max temp, and coordinates.\n",
    "hotel_df = perf_cities_df[[\"City\", \"Country\", \"Max Temp\", \"Lat\", \"Lng\"]].copy()\n",
    "hotel_df[\"Hotel Name\"] = \"\"\n",
    "hotel_df.head(10)\n"
   ]
  },
  {
   "cell_type": "code",
   "execution_count": null,
   "id": "f1a05039",
   "metadata": {},
   "outputs": [],
   "source": [
    "# Set parameters to search for a hotel.\n",
    "params = {\"radius\":5000,\n",
    "         \"type\":\"lodging\",\n",
    "         \"key\":g_API_KEY}"
   ]
  },
  {
   "cell_type": "markdown",
   "id": "633b9ec3",
   "metadata": {},
   "source": [
    "# TEST_a Fixed Latitude and Longitude"
   ]
  },
  {
   "cell_type": "code",
   "execution_count": null,
   "id": "95f6946a",
   "metadata": {},
   "outputs": [],
   "source": [
    "# Set the parameters to search for a hotel in Paris.\n",
    "#params = {\n",
    "    \"radius\": 5000,\n",
    "    \"types\": \"lodging\",\n",
    "    \"key\": g_API_KEY,\n",
    "    \"location\": \"48.8566, 2.3522\"}\n",
    "# Use base URL to search for hotels in Paris.\n",
    "base_url = \"https://maps.googleapis.com/maps/api/place/nearbysearch/json\"\n",
    "# Make request and get the JSON data from the search.\n",
    "hotels = requests.get(base_url, params=params).json()\n",
    "\n",
    "hotels"
   ]
  },
  {
   "cell_type": "code",
   "execution_count": 35,
   "id": "73599fdc",
   "metadata": {},
   "outputs": [
    {
     "name": "stdout",
     "output_type": "stream",
     "text": [
      "Hotel not found\n",
      "Hotel not found\n",
      "Hotel not found\n",
      "Hotel not found\n",
      "Hotel not found\n",
      "Hotel not found\n",
      "Hotel not found\n",
      "Hotel not found\n",
      "Hotel not found\n",
      "Hotel not found\n",
      "Hotel not found\n",
      "Hotel not found\n",
      "Hotel not found\n",
      "Hotel not found\n",
      "Hotel not found\n",
      "Hotel not found\n",
      "Hotel not found\n",
      "Hotel not found\n",
      "Hotel not found\n"
     ]
    }
   ],
   "source": [
    "# Iterate through the DataFrame.\n",
    "params = {\n",
    "    \"radius\": 5000,\n",
    "    \"types\": \"lodging\",\n",
    "    \"key\": g_API_KEY}\n",
    "\n",
    "for index, row in hotel_df.iterrows():\n",
    "    lat= row['Lat']\n",
    "    lng= row['Lng']\n",
    "    \n",
    "    params['location']= f'{lat}, {lng}'\n",
    "    base_url = \"https://maps.googleapis.com/maps/api/place/nearbysearch/json\"\n",
    "    hotels= requests.get(base_url, params=params).json()\n",
    "    \n",
    "    # Grab the first hotel from the results and store the name.\n",
    "    try:\n",
    "        hotel_df.loc[index, 'Hotel Name']= hotels['results'][0]['name']\n",
    "    except:\n",
    "        print('Hotel not found')\n",
    "    \n"
   ]
  },
  {
   "cell_type": "code",
   "execution_count": 36,
   "id": "95da6a42",
   "metadata": {},
   "outputs": [
    {
     "data": {
      "text/html": [
       "<div>\n",
       "<style scoped>\n",
       "    .dataframe tbody tr th:only-of-type {\n",
       "        vertical-align: middle;\n",
       "    }\n",
       "\n",
       "    .dataframe tbody tr th {\n",
       "        vertical-align: top;\n",
       "    }\n",
       "\n",
       "    .dataframe thead th {\n",
       "        text-align: right;\n",
       "    }\n",
       "</style>\n",
       "<table border=\"1\" class=\"dataframe\">\n",
       "  <thead>\n",
       "    <tr style=\"text-align: right;\">\n",
       "      <th></th>\n",
       "      <th>City</th>\n",
       "      <th>Country</th>\n",
       "      <th>Max Temp</th>\n",
       "      <th>Lat</th>\n",
       "      <th>Lng</th>\n",
       "      <th>Hotel Name</th>\n",
       "    </tr>\n",
       "  </thead>\n",
       "  <tbody>\n",
       "    <tr>\n",
       "      <th>0</th>\n",
       "      <td>Avarua</td>\n",
       "      <td>CK</td>\n",
       "      <td>27.03</td>\n",
       "      <td>-21.2078</td>\n",
       "      <td>-159.7750</td>\n",
       "      <td>Paradise Inn</td>\n",
       "    </tr>\n",
       "    <tr>\n",
       "      <th>4</th>\n",
       "      <td>Caravelas</td>\n",
       "      <td>BR</td>\n",
       "      <td>22.17</td>\n",
       "      <td>-17.7125</td>\n",
       "      <td>-39.2481</td>\n",
       "      <td>Pousada dos Navegantes</td>\n",
       "    </tr>\n",
       "    <tr>\n",
       "      <th>5</th>\n",
       "      <td>Rikitea</td>\n",
       "      <td>PF</td>\n",
       "      <td>25.93</td>\n",
       "      <td>-23.1203</td>\n",
       "      <td>-134.9692</td>\n",
       "      <td>People ThankYou</td>\n",
       "    </tr>\n",
       "    <tr>\n",
       "      <th>7</th>\n",
       "      <td>Vaini</td>\n",
       "      <td>TO</td>\n",
       "      <td>26.04</td>\n",
       "      <td>-21.2000</td>\n",
       "      <td>-175.2000</td>\n",
       "      <td>Keleti Beach Resort</td>\n",
       "    </tr>\n",
       "    <tr>\n",
       "      <th>9</th>\n",
       "      <td>Khorixas</td>\n",
       "      <td>NaN</td>\n",
       "      <td>29.28</td>\n",
       "      <td>-20.3667</td>\n",
       "      <td>14.9667</td>\n",
       "      <td>Khorixas Lodge</td>\n",
       "    </tr>\n",
       "    <tr>\n",
       "      <th>...</th>\n",
       "      <td>...</td>\n",
       "      <td>...</td>\n",
       "      <td>...</td>\n",
       "      <td>...</td>\n",
       "      <td>...</td>\n",
       "      <td>...</td>\n",
       "    </tr>\n",
       "    <tr>\n",
       "      <th>579</th>\n",
       "      <td>Rosetta</td>\n",
       "      <td>EG</td>\n",
       "      <td>16.15</td>\n",
       "      <td>31.4044</td>\n",
       "      <td>30.4164</td>\n",
       "      <td>Green Valley</td>\n",
       "    </tr>\n",
       "    <tr>\n",
       "      <th>580</th>\n",
       "      <td>Waingapu</td>\n",
       "      <td>ID</td>\n",
       "      <td>28.21</td>\n",
       "      <td>-9.6567</td>\n",
       "      <td>120.2641</td>\n",
       "      <td>Pondok Wisata Elim</td>\n",
       "    </tr>\n",
       "    <tr>\n",
       "      <th>581</th>\n",
       "      <td>Cam Ranh</td>\n",
       "      <td>VN</td>\n",
       "      <td>26.98</td>\n",
       "      <td>11.9214</td>\n",
       "      <td>109.1591</td>\n",
       "      <td>OYO 598 Peony Hotel</td>\n",
       "    </tr>\n",
       "    <tr>\n",
       "      <th>582</th>\n",
       "      <td>Aksu</td>\n",
       "      <td>CN</td>\n",
       "      <td>16.13</td>\n",
       "      <td>41.1231</td>\n",
       "      <td>80.2644</td>\n",
       "      <td>Pudong Holiday Hotel</td>\n",
       "    </tr>\n",
       "    <tr>\n",
       "      <th>583</th>\n",
       "      <td>Grand-Santi</td>\n",
       "      <td>GF</td>\n",
       "      <td>21.72</td>\n",
       "      <td>4.2500</td>\n",
       "      <td>-54.3833</td>\n",
       "      <td>Hotel La Villa Couacou</td>\n",
       "    </tr>\n",
       "  </tbody>\n",
       "</table>\n",
       "<p>253 rows × 6 columns</p>\n",
       "</div>"
      ],
      "text/plain": [
       "            City Country  Max Temp      Lat       Lng              Hotel Name\n",
       "0         Avarua      CK     27.03 -21.2078 -159.7750            Paradise Inn\n",
       "4      Caravelas      BR     22.17 -17.7125  -39.2481  Pousada dos Navegantes\n",
       "5        Rikitea      PF     25.93 -23.1203 -134.9692         People ThankYou\n",
       "7          Vaini      TO     26.04 -21.2000 -175.2000     Keleti Beach Resort\n",
       "9       Khorixas     NaN     29.28 -20.3667   14.9667          Khorixas Lodge\n",
       "..           ...     ...       ...      ...       ...                     ...\n",
       "579      Rosetta      EG     16.15  31.4044   30.4164            Green Valley\n",
       "580     Waingapu      ID     28.21  -9.6567  120.2641      Pondok Wisata Elim\n",
       "581     Cam Ranh      VN     26.98  11.9214  109.1591     OYO 598 Peony Hotel\n",
       "582         Aksu      CN     16.13  41.1231   80.2644    Pudong Holiday Hotel\n",
       "583  Grand-Santi      GF     21.72   4.2500  -54.3833  Hotel La Villa Couacou\n",
       "\n",
       "[253 rows x 6 columns]"
      ]
     },
     "execution_count": 36,
     "metadata": {},
     "output_type": "execute_result"
    }
   ],
   "source": [
    "hotel_df"
   ]
  },
  {
   "cell_type": "markdown",
   "id": "16fac165",
   "metadata": {},
   "source": [
    "# Create a Maximum Temperature Heatmap from a Hotel DataFrame"
   ]
  },
  {
   "cell_type": "code",
   "execution_count": 46,
   "id": "c12b5270",
   "metadata": {},
   "outputs": [
    {
     "data": {
      "application/vnd.jupyter.widget-view+json": {
       "model_id": "a75789122b714e23ab7ee8ce177ff3dd",
       "version_major": 2,
       "version_minor": 0
      },
      "text/plain": [
       "Figure(layout=FigureLayout(height='420px'))"
      ]
     },
     "metadata": {},
     "output_type": "display_data"
    }
   ],
   "source": [
    "# Add a heatmap of temperature for the vacation spots.\n",
    "locations = hotel_df[[\"Lat\", \"Lng\"]]\n",
    "max_temp = hotel_df[\"Max Temp\"]\n",
    "fig = gmaps.figure(center=(30.0, 31.0), zoom_level=1.5)\n",
    "heat_layer = gmaps.heatmap_layer(locations, weights=max_temp, dissipating=False,\n",
    "             max_intensity=100, point_radius=4)\n",
    "marker_layer= gmaps.marker_layer(locations)\n",
    "fig.add_layer(heat_layer)\n",
    "fig.add_layer(marker_layer)\n",
    "# Call the figure to plot the data.\n",
    "fig"
   ]
  },
  {
   "cell_type": "code",
   "execution_count": 48,
   "id": "85c30e52",
   "metadata": {},
   "outputs": [],
   "source": [
    "# Store the DataFrame Row.\n",
    "info_box_template = \"\"\"\n",
    "<dl>\n",
    "<dt>Hotel Name</dt><dd>{Hotel Name}</dd>\n",
    "<dt>City</dt><dd>{City}</dd>\n",
    "<dt>Country</dt><dd>{Country}</dd>\n",
    "<dt>Max Temp</dt><dd>{Max Temp} °F</dd>\n",
    "</dl>\n",
    "\"\"\"\n",
    "\n",
    "hotel_info = [info_box_template.format(**row) for index, row in hotel_df.iterrows()]\n"
   ]
  },
  {
   "cell_type": "code",
   "execution_count": 49,
   "id": "0b9459ca",
   "metadata": {},
   "outputs": [
    {
     "data": {
      "application/vnd.jupyter.widget-view+json": {
       "model_id": "2fcb4d3fd05b47ff831277934944bc42",
       "version_major": 2,
       "version_minor": 0
      },
      "text/plain": [
       "Figure(layout=FigureLayout(height='420px'))"
      ]
     },
     "metadata": {},
     "output_type": "display_data"
    }
   ],
   "source": [
    "# Add a heatmap of temperature for the vacation spots and a pop-up marker for each city.\n",
    "locations = hotel_df[[\"Lat\", \"Lng\"]]\n",
    "max_temp = hotel_df[\"Max Temp\"]\n",
    "\n",
    "fig = gmaps.figure(center=(30.0, 31.0), zoom_level=1.5)\n",
    "heat_layer = gmaps.heatmap_layer(locations, weights=max_temp,dissipating=False,\n",
    "             max_intensity=300, point_radius=4)\n",
    "\n",
    "marker_layer = gmaps.marker_layer(locations, info_box_content=hotel_info)\n",
    "fig.add_layer(heat_layer)\n",
    "fig.add_layer(marker_layer)\n",
    "\n",
    "# Call the figure to plot the data.\n",
    "fig\n"
   ]
  },
  {
   "cell_type": "code",
   "execution_count": null,
   "id": "cf08c018",
   "metadata": {},
   "outputs": [],
   "source": [
    "locations"
   ]
  }
 ],
 "metadata": {
  "kernelspec": {
   "display_name": "PythonData",
   "language": "python",
   "name": "pythondata"
  },
  "language_info": {
   "codemirror_mode": {
    "name": "ipython",
    "version": 3
   },
   "file_extension": ".py",
   "mimetype": "text/x-python",
   "name": "python",
   "nbconvert_exporter": "python",
   "pygments_lexer": "ipython3",
   "version": "3.7.11"
  }
 },
 "nbformat": 4,
 "nbformat_minor": 5
}
